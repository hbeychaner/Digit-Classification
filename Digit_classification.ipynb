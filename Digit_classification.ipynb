{
  "nbformat": 4,
  "nbformat_minor": 0,
  "metadata": {
    "colab": {
      "name": "Digit classification.ipynb",
      "version": "0.3.2",
      "provenance": [],
      "collapsed_sections": [],
      "include_colab_link": true
    },
    "kernelspec": {
      "name": "python3",
      "display_name": "Python 3"
    }
  },
  "cells": [
    {
      "cell_type": "markdown",
      "metadata": {
        "id": "view-in-github",
        "colab_type": "text"
      },
      "source": [
        "<a href=\"https://colab.research.google.com/github/hbeychaner/Digit-Classification/blob/master/Digit_classification.ipynb\" target=\"_parent\"><img src=\"https://colab.research.google.com/assets/colab-badge.svg\" alt=\"Open In Colab\"/></a>"
      ]
    },
    {
      "cell_type": "code",
      "metadata": {
        "id": "vKdN7mi3gGAS",
        "colab_type": "code",
        "outputId": "bf7757a8-8761-4b0f-e86a-33518aaebcef",
        "colab": {
          "base_uri": "https://localhost:8080/",
          "height": 230
        }
      },
      "source": [
        "# Make sure libraries for the project are installed and imported\n",
        "!pip install librosa\n",
        "import librosa\n",
        "import matplotlib.pyplot as plt \n",
        "import os\n",
        "import pylab\n",
        "import numpy as np \n",
        "from tensorflow.keras import layers\n",
        "from tensorflow import keras \n",
        "import tensorflow as tf\n",
        "from sklearn.model_selection import train_test_split\n",
        "import matplotlib.pyplot as plt\n",
        "import librosa.display\n",
        "import cv2\n",
        "import random\n",
        "from glob import glob\n",
        "import pandas as pd\n",
        "from sklearn.model_selection import train_test_split\n",
        "\n",
        "\n",
        "# Clone the GitHub repo to the local environment\n",
        "!git clone https://github.com/Jakobovski/free-spoken-digit-dataset.git"
      ],
      "execution_count": 10,
      "outputs": [
        {
          "output_type": "stream",
          "text": [
            "Requirement already satisfied: librosa in /usr/local/lib/python3.6/dist-packages (0.6.3)\n",
            "Requirement already satisfied: audioread>=2.0.0 in /usr/local/lib/python3.6/dist-packages (from librosa) (2.1.8)\n",
            "Requirement already satisfied: joblib>=0.12 in /usr/local/lib/python3.6/dist-packages (from librosa) (0.13.2)\n",
            "Requirement already satisfied: numpy>=1.8.0 in /usr/local/lib/python3.6/dist-packages (from librosa) (1.16.4)\n",
            "Requirement already satisfied: six>=1.3 in /usr/local/lib/python3.6/dist-packages (from librosa) (1.12.0)\n",
            "Requirement already satisfied: decorator>=3.0.0 in /usr/local/lib/python3.6/dist-packages (from librosa) (4.4.0)\n",
            "Requirement already satisfied: numba>=0.38.0 in /usr/local/lib/python3.6/dist-packages (from librosa) (0.40.1)\n",
            "Requirement already satisfied: scipy>=1.0.0 in /usr/local/lib/python3.6/dist-packages (from librosa) (1.3.0)\n",
            "Requirement already satisfied: scikit-learn!=0.19.0,>=0.14.0 in /usr/local/lib/python3.6/dist-packages (from librosa) (0.21.2)\n",
            "Requirement already satisfied: resampy>=0.2.0 in /usr/local/lib/python3.6/dist-packages (from librosa) (0.2.1)\n",
            "Requirement already satisfied: llvmlite>=0.25.0dev0 in /usr/local/lib/python3.6/dist-packages (from numba>=0.38.0->librosa) (0.29.0)\n"
          ],
          "name": "stdout"
        }
      ]
    },
    {
      "cell_type": "code",
      "metadata": {
        "id": "c-VzfFlvhofn",
        "colab_type": "code",
        "outputId": "8e9f1c9c-e3ac-42ef-c71c-99288fb90e60",
        "colab": {
          "base_uri": "https://localhost:8080/",
          "height": 140
        }
      },
      "source": [
        ""
      ],
      "execution_count": 2,
      "outputs": [
        {
          "output_type": "stream",
          "text": [
            "Cloning into 'free-spoken-digit-dataset'...\n",
            "remote: Enumerating objects: 559, done.\u001b[K\n",
            "remote: Counting objects: 100% (559/559), done.\u001b[K\n",
            "remote: Compressing objects: 100% (539/539), done.\u001b[K\n",
            "remote: Total 3157 (delta 22), reused 555 (delta 20), pack-reused 2598\u001b[K\n",
            "Receiving objects: 100% (3157/3157), 23.92 MiB | 32.01 MiB/s, done.\n",
            "Resolving deltas: 100% (65/65), done.\n"
          ],
          "name": "stdout"
        }
      ]
    },
    {
      "cell_type": "code",
      "metadata": {
        "id": "lUs38rnRhglo",
        "colab_type": "code",
        "outputId": "bd66a251-11dc-4ce5-cfd5-875bb0788547",
        "colab": {
          "base_uri": "https://localhost:8080/",
          "height": 52
        }
      },
      "source": [
        "# Load an audio file to see the shape. SR = Sampling rate, WAV shape = length. \n",
        "wav, sr = librosa.load('free-spoken-digit-dataset/recordings/0_jackson_0.wav', sr=None)\n",
        "print ('Sampling Rate:', sr)\n",
        "print ('WAV shape:', wav.shape)"
      ],
      "execution_count": 3,
      "outputs": [
        {
          "output_type": "stream",
          "text": [
            "Sampling Rate: 8000\n",
            "WAV shape: (5148,)\n"
          ],
          "name": "stdout"
        }
      ]
    },
    {
      "cell_type": "code",
      "metadata": {
        "id": "faoL4cOzi44j",
        "colab_type": "code",
        "outputId": "d45aedaf-27bd-4bd5-b6e4-b10487e45b53",
        "colab": {
          "base_uri": "https://localhost:8080/",
          "height": 34
        }
      },
      "source": [
        "# Calculate the length of the WAV file in S\n",
        "length = wav.shape[0]/sr\n",
        "print('length:', length, 'secs')"
      ],
      "execution_count": 4,
      "outputs": [
        {
          "output_type": "stream",
          "text": [
            "length: 0.6435 secs\n"
          ],
          "name": "stdout"
        }
      ]
    },
    {
      "cell_type": "code",
      "metadata": {
        "id": "sXtIsFdHkG7W",
        "colab_type": "code",
        "outputId": "0fdee73b-774d-4bd5-aa3a-1666b0edd7c2",
        "colab": {
          "base_uri": "https://localhost:8080/",
          "height": 286
        }
      },
      "source": [
        "# Plot the waveform for fun\n",
        "plt.plot(wav)"
      ],
      "execution_count": 5,
      "outputs": [
        {
          "output_type": "execute_result",
          "data": {
            "text/plain": [
              "[<matplotlib.lines.Line2D at 0x7f51a09da080>]"
            ]
          },
          "metadata": {
            "tags": []
          },
          "execution_count": 5
        },
        {
          "output_type": "display_data",
          "data": {
            "image/png": "[encoded data removed]",
            "text/plain": [
              "<Figure size 432x288 with 1 Axes>"
            ]
          },
          "metadata": {
            "tags": []
          }
        }
      ]
    },
    {
      "cell_type": "code",
      "metadata": {
        "id": "5xK5xwH8laaH",
        "colab_type": "code",
        "outputId": "6e0f7c63-295f-4ffd-a96a-0e478892b2f3",
        "colab": {
          "base_uri": "https://localhost:8080/",
          "height": 286
        }
      },
      "source": [
        "# Let's look at this file a little more closely, to understand how waveforms look close-up.\n",
        "plt.plot(wav[0:200])"
      ],
      "execution_count": 6,
      "outputs": [
        {
          "output_type": "execute_result",
          "data": {
            "text/plain": [
              "[<matplotlib.lines.Line2D at 0x7f519e16bfd0>]"
            ]
          },
          "metadata": {
            "tags": []
          },
          "execution_count": 6
        },
        {
          "output_type": "display_data",
          "data": {
            "image/png": "[encoded data removed]",
            "text/plain": [
              "<Figure size 432x288 with 1 Axes>"
            ]
          },
          "metadata": {
            "tags": []
          }
        }
      ]
    },
    {
      "cell_type": "code",
      "metadata": {
        "id": "IsJxAMxTGRjp",
        "colab_type": "code",
        "outputId": "3781a838-9eaf-422e-921b-314f2ef366f0",
        "colab": {
          "base_uri": "https://localhost:8080/",
          "height": 275
        }
      },
      "source": [
        "# We need to convert each wave file into a spectrogram so the neural network can\n",
        "# extrapolate patterns. Sound pressure information is insufficient for this type\n",
        "# of classification, but spectrograms give a visual representation that CNNs \n",
        "# are better at analysing.\n",
        "\n",
        "D = librosa.amplitude_to_db(np.abs(librosa.stft(wav)), ref=np.max)\n",
        "librosa.display.specshow(D, y_axis='log')"
      ],
      "execution_count": 16,
      "outputs": [
        {
          "output_type": "execute_result",
          "data": {
            "text/plain": [
              "<matplotlib.axes._subplots.AxesSubplot at 0x7f516f8faa58>"
            ]
          },
          "metadata": {
            "tags": []
          },
          "execution_count": 16
        },
        {
          "output_type": "display_data",
          "data": {
            "image/png": "[encoded data removed]",
            "text/plain": [
              "<Figure size 432x288 with 1 Axes>"
            ]
          },
          "metadata": {
            "tags": []
          }
        }
      ]
    },
    {
      "cell_type": "code",
      "metadata": {
        "id": "aifh8lIoOumr",
        "colab_type": "code",
        "colab": {
          "base_uri": "https://localhost:8080/",
          "height": 34
        },
        "outputId": "fec9b027-3788-4115-8ba0-eba65e899267"
      },
      "source": [
        "# Make a folder to store our spectrogram images.\n",
        "!mkdir spectrograms\n",
        "\n",
        "# Now create a list of labels for the training data and convert it to a \n",
        "# numpy array for use with neural network. \n",
        "y = []\n",
        "\n",
        "\n",
        "pad = lambda a, i: a[0: i] if a.shape[0] > i else np.hstack((a, np.zeros(i - a.shape[0])))\n",
        "\n",
        "# Convert all WAVs to spectrograms, save the images to our new folder\n",
        "for fname in os.listdir('free-spoken-digit-dataset/recordings'):\n",
        "  \n",
        "  # Load the WAV\n",
        "  wav, sr = librosa.load('free-spoken-digit-dataset/recordings/' + fname)\n",
        "  \n",
        "  # Pad the wav files so they're of uniform length\n",
        "  padded = pad(wav, 30000)\n",
        "  save_path = 'spectrograms/' + fname + '.jpg'\n",
        "\n",
        "  # No axis\n",
        "  pylab.axis('off')\n",
        "  \n",
        "  # Remove the white edge\n",
        "  pylab.axes([0., 0., 1., 1.], frameon=False, xticks=[], yticks=[]) \n",
        "  \n",
        "  # Save the image\n",
        "  S = librosa.feature.melspectrogram(y=wav, sr=sr)\n",
        "  librosa.display.specshow(librosa.power_to_db(S, ref=np.max))\n",
        "  pylab.savefig(save_path, bbox_inches=None, pad_inches=0)\n",
        "  pylab.close()\n"
      ],
      "execution_count": 14,
      "outputs": [
        {
          "output_type": "stream",
          "text": [
            "mkdir: cannot create directory ‘spectrograms’: File exists\n"
          ],
          "name": "stdout"
        }
      ]
    },
    {
      "cell_type": "code",
      "metadata": {
        "id": "8kVKs6xfjx3G",
        "colab_type": "code",
        "colab": {}
      },
      "source": [
        "# Now initiate a neural network to classify all the images and label them \n",
        "# accordingly\n",
        "from keras.models import Sequential\n",
        "from keras.layers import Convolution2D\n",
        "from keras.layers import MaxPooling2D\n",
        "from keras.layers import Flatten\n",
        "from keras.layers import Dense"
      ],
      "execution_count": 0,
      "outputs": []
    },
    {
      "cell_type": "code",
      "metadata": {
        "id": "mSn5o0Uol8PC",
        "colab_type": "code",
        "colab": {
          "base_uri": "https://localhost:8080/",
          "height": 107
        },
        "outputId": "7d57abd2-acda-4905-bee2-85a191daa264"
      },
      "source": [
        "# Make a training set and a label set, keep them separate. \n",
        "from sklearn.model_selection import train_test_split\n",
        "!pip install split_folders\n",
        "import split_folders\n"
      ],
      "execution_count": 18,
      "outputs": [
        {
          "output_type": "stream",
          "text": [
            "Collecting split_folders\n",
            "  Downloading https://files.pythonhosted.org/packages/94/fd/29ffa8c9495eec46b17c939db2b6d0bdc6b768c1438d7b8bd0802b040d2b/split_folders-0.2.2-py3-none-any.whl\n",
            "Installing collected packages: split-folders\n",
            "Successfully installed split-folders-0.2.2\n"
          ],
          "name": "stdout"
        }
      ]
    },
    {
      "cell_type": "code",
      "metadata": {
        "id": "u0bURRu8zagW",
        "colab_type": "code",
        "colab": {}
      },
      "source": [
        "# ../input/\n",
        "PATH = os.path.abspath(os.path.join('..', 'content'))\n",
        "\n",
        "# ../input/sample/images/\n",
        "SOURCE_IMAGES = os.path.join(PATH, \"spectrograms\")\n",
        "\n",
        "# ../input/sample/images/*.png\n",
        "images = glob(os.path.join(SOURCE_IMAGES, \"*.jpg\"))"
      ],
      "execution_count": 0,
      "outputs": []
    },
    {
      "cell_type": "code",
      "metadata": {
        "id": "beyJG4s50Cox",
        "colab_type": "code",
        "colab": {}
      },
      "source": [
        "def proc_images():\n",
        "    #Returns array:\n",
        "    #    x is an array of resized images\n",
        "\n",
        "    x = [] # images as arrays\n",
        "    y = [] # array of labels\n",
        "    WIDTH = 216 # these are scaled to 1/2 orginial size, aspect ratio maintained \n",
        "    HEIGHT = 144\n",
        "\n",
        "    for img in images:\n",
        "        base = os.path.basename(img)\n",
        "        \n",
        "        # Append labels to a list (y) \n",
        "        struct = base.split('_')\n",
        "        digit = struct[0]\n",
        "        y.append(digit)\n",
        "        \n",
        "        # Read and resize image\n",
        "        full_size_image = cv2.imread(img)\n",
        "        x.append(cv2.resize(full_size_image, (WIDTH,HEIGHT), interpolation=cv2.INTER_CUBIC))\n",
        "\n",
        "    return x,y"
      ],
      "execution_count": 0,
      "outputs": []
    },
    {
      "cell_type": "code",
      "metadata": {
        "id": "xOAMwF8a2yrV",
        "colab_type": "code",
        "colab": {}
      },
      "source": [
        "# And finally, the loaded, downsized images along with their labels \n",
        "x,y = proc_images()"
      ],
      "execution_count": 0,
      "outputs": []
    },
    {
      "cell_type": "code",
      "metadata": {
        "id": "UmMXKgFu2-Ia",
        "colab_type": "code",
        "colab": {}
      },
      "source": [
        "# Make the train/test split.\n",
        "X_train, X_test, y_train, y_test = train_test_split(x, y, test_size=0.33, random_state=42)"
      ],
      "execution_count": 0,
      "outputs": []
    },
    {
      "cell_type": "code",
      "metadata": {
        "id": "SDM_KSRn4Xds",
        "colab_type": "code",
        "colab": {}
      },
      "source": [
        "# Initiate a classifier.\n",
        "classifier = Sequential()\n",
        "\n",
        "# Convolution layer\n",
        "classifier.add(Convolution2D(32, (5, 5), input_shape=(144, 216, 3), activation = 'relu'))\n",
        "\n",
        "# Pooling layer\n",
        "classifier.add(MaxPooling2D(pool_size=(2,2)))\n",
        "\n",
        "# Flattening layer\n",
        "classifier.add(Flatten())"
      ],
      "execution_count": 0,
      "outputs": []
    },
    {
      "cell_type": "code",
      "metadata": {
        "id": "MVWs2JRA58pt",
        "colab_type": "code",
        "colab": {}
      },
      "source": [
        "# Full connection of CNN, just two layers\n",
        "classifier.add(Dense(units=128, activation='relu'))\n",
        "classifier.add(Dense(units=10, activation='sigmoid'))\n",
        "\n",
        "# Compile CNN\n",
        "classifier.compile(optimizer='adam', loss='binary_crossentropy', metrics=['accuracy'])"
      ],
      "execution_count": 0,
      "outputs": []
    },
    {
      "cell_type": "code",
      "metadata": {
        "id": "gQj4EJpH7qQ5",
        "colab_type": "code",
        "colab": {}
      },
      "source": [
        "# Convert labels to one-hot encoding because it's a multi-class problem\n",
        "num_classes = 10\n",
        "y_train = keras.utils.to_categorical(y_train, num_classes)\n",
        "y_test = keras.utils.to_categorical(y_test, num_classes)"
      ],
      "execution_count": 0,
      "outputs": []
    },
    {
      "cell_type": "code",
      "metadata": {
        "id": "gM6J9tms98OX",
        "colab_type": "code",
        "colab": {
          "base_uri": "https://localhost:8080/",
          "height": 334
        },
        "outputId": "beb6c078-03a6-4e55-b75c-58f216f77c0e"
      },
      "source": [
        "# Train model\n",
        "adam = tf.train.AdamOptimizer()\n",
        "classifier.compile(loss='categorical_crossentropy',\n",
        "              optimizer=adam,\n",
        "              metrics=['top_k_categorical_accuracy'])\n",
        "print(classifier.summary())"
      ],
      "execution_count": 122,
      "outputs": [
        {
          "output_type": "stream",
          "text": [
            "_________________________________________________________________\n",
            "Layer (type)                 Output Shape              Param #   \n",
            "=================================================================\n",
            "conv2d_13 (Conv2D)           (None, 140, 212, 32)      2432      \n",
            "_________________________________________________________________\n",
            "max_pooling2d_14 (MaxPooling (None, 70, 106, 32)       0         \n",
            "_________________________________________________________________\n",
            "flatten_12 (Flatten)         (None, 237440)            0         \n",
            "_________________________________________________________________\n",
            "dense_25 (Dense)             (None, 128)               30392448  \n",
            "_________________________________________________________________\n",
            "dense_26 (Dense)             (None, 10)                1290      \n",
            "=================================================================\n",
            "Total params: 30,396,170\n",
            "Trainable params: 30,396,170\n",
            "Non-trainable params: 0\n",
            "_________________________________________________________________\n",
            "None\n"
          ],
          "name": "stdout"
        }
      ]
    },
    {
      "cell_type": "code",
      "metadata": {
        "id": "CICUDb62-Is5",
        "colab_type": "code",
        "colab": {
          "base_uri": "https://localhost:8080/",
          "height": 248
        },
        "outputId": "4c5eaa86-bf5e-4503-ac00-ac57fe420c25"
      },
      "source": [
        "# Evaluate model on training data\n",
        "classifier.fit(x = np.array(X_train), y = np.array(y_train), validation_split=0.1, verbose=2, epochs=5)\n",
        "\n",
        "# Evaluate model on unseen data\n",
        "score = classifier.evaluate(np.array(X_test), np.array(y_test), verbose=0)\n",
        "print('Test accuarcy: {:0.2f}%'.format(score[1] * 100))"
      ],
      "execution_count": 124,
      "outputs": [
        {
          "output_type": "stream",
          "text": [
            "Train on 1206 samples, validate on 134 samples\n",
            "Epoch 1/5\n",
            " - 65s - loss: 7.1612 - top_k_categorical_accuracy: 0.6252 - val_loss: 7.8858 - val_top_k_categorical_accuracy: 0.5746\n",
            "Epoch 2/5\n",
            " - 66s - loss: 7.1612 - top_k_categorical_accuracy: 0.6252 - val_loss: 7.8858 - val_top_k_categorical_accuracy: 0.5746\n",
            "Epoch 3/5\n",
            " - 66s - loss: 7.1612 - top_k_categorical_accuracy: 0.6252 - val_loss: 7.8858 - val_top_k_categorical_accuracy: 0.5746\n",
            "Epoch 4/5\n",
            " - 65s - loss: 7.1612 - top_k_categorical_accuracy: 0.6252 - val_loss: 7.8858 - val_top_k_categorical_accuracy: 0.5746\n",
            "Epoch 5/5\n",
            " - 66s - loss: 7.1612 - top_k_categorical_accuracy: 0.6252 - val_loss: 7.8858 - val_top_k_categorical_accuracy: 0.5746\n",
            "Test accuarcy: 55.91%\n"
          ],
          "name": "stdout"
        }
      ]
    },
    {
      "cell_type": "code",
      "metadata": {
        "id": "OkdzWz0i6j4z",
        "colab_type": "code",
        "colab": {
          "base_uri": "https://localhost:8080/",
          "height": 34
        },
        "outputId": "71051667-f5a8-4219-a0ab-505e89fa92d5"
      },
      "source": [
        "np.array(y_train).shape"
      ],
      "execution_count": 114,
      "outputs": [
        {
          "output_type": "execute_result",
          "data": {
            "text/plain": [
              "(1340, 10)"
            ]
          },
          "metadata": {
            "tags": []
          },
          "execution_count": 114
        }
      ]
    }
  ]
}